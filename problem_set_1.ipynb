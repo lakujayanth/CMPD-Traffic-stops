{
 "cells": [
  {
   "cell_type": "code",
   "execution_count": 47,
   "metadata": {},
   "outputs": [],
   "source": [
    "# Import packages\n",
    "\n",
    "import pandas as pd\n",
    "import altair as alt\n",
    "import matplotlib.pyplot as plt"
   ]
  },
  {
   "cell_type": "code",
   "execution_count": 3,
   "metadata": {},
   "outputs": [
    {
     "data": {
      "text/html": [
       "<div>\n",
       "<style scoped>\n",
       "    .dataframe tbody tr th:only-of-type {\n",
       "        vertical-align: middle;\n",
       "    }\n",
       "\n",
       "    .dataframe tbody tr th {\n",
       "        vertical-align: top;\n",
       "    }\n",
       "\n",
       "    .dataframe thead th {\n",
       "        text-align: right;\n",
       "    }\n",
       "</style>\n",
       "<table border=\"1\" class=\"dataframe\">\n",
       "  <thead>\n",
       "    <tr style=\"text-align: right;\">\n",
       "      <th></th>\n",
       "      <th>Month_of_Stop</th>\n",
       "      <th>Reason_for_Stop</th>\n",
       "      <th>Officer_Race</th>\n",
       "      <th>Officer_Gender</th>\n",
       "      <th>Officer_Years_of_Service</th>\n",
       "      <th>Driver_Race</th>\n",
       "      <th>Driver_Ethnicity</th>\n",
       "      <th>Driver_Gender</th>\n",
       "      <th>Driver_Age</th>\n",
       "      <th>Was_a_Search_Conducted</th>\n",
       "      <th>Result_of_Stop</th>\n",
       "      <th>CMPD_Division</th>\n",
       "      <th>ObjectID</th>\n",
       "      <th>CreationDate</th>\n",
       "      <th>Creator</th>\n",
       "      <th>EditDate</th>\n",
       "      <th>Editor</th>\n",
       "    </tr>\n",
       "  </thead>\n",
       "  <tbody>\n",
       "    <tr>\n",
       "      <th>0</th>\n",
       "      <td>2017/06</td>\n",
       "      <td>Vehicle Regulatory</td>\n",
       "      <td>White</td>\n",
       "      <td>Female</td>\n",
       "      <td>3</td>\n",
       "      <td>Black</td>\n",
       "      <td>Non-Hispanic</td>\n",
       "      <td>Male</td>\n",
       "      <td>23</td>\n",
       "      <td>No</td>\n",
       "      <td>Verbal Warning</td>\n",
       "      <td>North Tryon Division</td>\n",
       "      <td>3001</td>\n",
       "      <td>2019-02-16T10:01:44.227Z</td>\n",
       "      <td>CharlotteNC</td>\n",
       "      <td>2019-02-16T10:01:44.227Z</td>\n",
       "      <td>CharlotteNC</td>\n",
       "    </tr>\n",
       "    <tr>\n",
       "      <th>1</th>\n",
       "      <td>2017/06</td>\n",
       "      <td>Vehicle Regulatory</td>\n",
       "      <td>White</td>\n",
       "      <td>Male</td>\n",
       "      <td>2</td>\n",
       "      <td>Black</td>\n",
       "      <td>Non-Hispanic</td>\n",
       "      <td>Male</td>\n",
       "      <td>36</td>\n",
       "      <td>No</td>\n",
       "      <td>Verbal Warning</td>\n",
       "      <td>Central Division</td>\n",
       "      <td>3002</td>\n",
       "      <td>2019-02-16T10:01:44.227Z</td>\n",
       "      <td>CharlotteNC</td>\n",
       "      <td>2019-02-16T10:01:44.227Z</td>\n",
       "      <td>CharlotteNC</td>\n",
       "    </tr>\n",
       "    <tr>\n",
       "      <th>2</th>\n",
       "      <td>2017/06</td>\n",
       "      <td>Stop Light/Sign</td>\n",
       "      <td>White</td>\n",
       "      <td>Male</td>\n",
       "      <td>5</td>\n",
       "      <td>Black</td>\n",
       "      <td>Non-Hispanic</td>\n",
       "      <td>Male</td>\n",
       "      <td>45</td>\n",
       "      <td>No</td>\n",
       "      <td>Verbal Warning</td>\n",
       "      <td>Central Division</td>\n",
       "      <td>3003</td>\n",
       "      <td>2019-02-16T10:01:44.227Z</td>\n",
       "      <td>CharlotteNC</td>\n",
       "      <td>2019-02-16T10:01:44.227Z</td>\n",
       "      <td>CharlotteNC</td>\n",
       "    </tr>\n",
       "    <tr>\n",
       "      <th>3</th>\n",
       "      <td>2017/06</td>\n",
       "      <td>Vehicle Equipment</td>\n",
       "      <td>White</td>\n",
       "      <td>Male</td>\n",
       "      <td>10</td>\n",
       "      <td>White</td>\n",
       "      <td>Non-Hispanic</td>\n",
       "      <td>Male</td>\n",
       "      <td>30</td>\n",
       "      <td>No</td>\n",
       "      <td>Verbal Warning</td>\n",
       "      <td>South Division</td>\n",
       "      <td>3004</td>\n",
       "      <td>2019-02-16T10:01:44.227Z</td>\n",
       "      <td>CharlotteNC</td>\n",
       "      <td>2019-02-16T10:01:44.227Z</td>\n",
       "      <td>CharlotteNC</td>\n",
       "    </tr>\n",
       "    <tr>\n",
       "      <th>4</th>\n",
       "      <td>2017/06</td>\n",
       "      <td>Stop Light/Sign</td>\n",
       "      <td>White</td>\n",
       "      <td>Male</td>\n",
       "      <td>2</td>\n",
       "      <td>Black</td>\n",
       "      <td>Non-Hispanic</td>\n",
       "      <td>Female</td>\n",
       "      <td>37</td>\n",
       "      <td>No</td>\n",
       "      <td>Verbal Warning</td>\n",
       "      <td>Central Division</td>\n",
       "      <td>3005</td>\n",
       "      <td>2019-02-16T10:01:44.227Z</td>\n",
       "      <td>CharlotteNC</td>\n",
       "      <td>2019-02-16T10:01:44.227Z</td>\n",
       "      <td>CharlotteNC</td>\n",
       "    </tr>\n",
       "  </tbody>\n",
       "</table>\n",
       "</div>"
      ],
      "text/plain": [
       "  Month_of_Stop            Reason_for_Stop Officer_Race Officer_Gender  \\\n",
       "0       2017/06  Vehicle Regulatory               White         Female   \n",
       "1       2017/06  Vehicle Regulatory               White           Male   \n",
       "2       2017/06  Stop Light/Sign                  White           Male   \n",
       "3       2017/06  Vehicle Equipment                White           Male   \n",
       "4       2017/06  Stop Light/Sign                  White           Male   \n",
       "\n",
       "   Officer_Years_of_Service Driver_Race Driver_Ethnicity Driver_Gender  \\\n",
       "0                         3       Black     Non-Hispanic          Male   \n",
       "1                         2       Black     Non-Hispanic          Male   \n",
       "2                         5       Black     Non-Hispanic          Male   \n",
       "3                        10       White     Non-Hispanic          Male   \n",
       "4                         2       Black     Non-Hispanic        Female   \n",
       "\n",
       "   Driver_Age Was_a_Search_Conducted  Result_of_Stop         CMPD_Division  \\\n",
       "0          23                     No  Verbal Warning  North Tryon Division   \n",
       "1          36                     No  Verbal Warning      Central Division   \n",
       "2          45                     No  Verbal Warning      Central Division   \n",
       "3          30                     No  Verbal Warning        South Division   \n",
       "4          37                     No  Verbal Warning      Central Division   \n",
       "\n",
       "   ObjectID              CreationDate      Creator                  EditDate  \\\n",
       "0      3001  2019-02-16T10:01:44.227Z  CharlotteNC  2019-02-16T10:01:44.227Z   \n",
       "1      3002  2019-02-16T10:01:44.227Z  CharlotteNC  2019-02-16T10:01:44.227Z   \n",
       "2      3003  2019-02-16T10:01:44.227Z  CharlotteNC  2019-02-16T10:01:44.227Z   \n",
       "3      3004  2019-02-16T10:01:44.227Z  CharlotteNC  2019-02-16T10:01:44.227Z   \n",
       "4      3005  2019-02-16T10:01:44.227Z  CharlotteNC  2019-02-16T10:01:44.227Z   \n",
       "\n",
       "        Editor  \n",
       "0  CharlotteNC  \n",
       "1  CharlotteNC  \n",
       "2  CharlotteNC  \n",
       "3  CharlotteNC  \n",
       "4  CharlotteNC  "
      ]
     },
     "execution_count": 3,
     "metadata": {},
     "output_type": "execute_result"
    }
   ],
   "source": [
    "# Load traffic stops data and create a dataframe called stops\n",
    "# and check the columns and their types\n",
    "stops = pd.read_csv('Officer_Traffic_Stops.csv')\n",
    "stops.head()"
   ]
  },
  {
   "cell_type": "code",
   "execution_count": 4,
   "metadata": {},
   "outputs": [
    {
     "data": {
      "text/html": [
       "<div>\n",
       "<style scoped>\n",
       "    .dataframe tbody tr th:only-of-type {\n",
       "        vertical-align: middle;\n",
       "    }\n",
       "\n",
       "    .dataframe tbody tr th {\n",
       "        vertical-align: top;\n",
       "    }\n",
       "\n",
       "    .dataframe thead th {\n",
       "        text-align: right;\n",
       "    }\n",
       "</style>\n",
       "<table border=\"1\" class=\"dataframe\">\n",
       "  <thead>\n",
       "    <tr style=\"text-align: right;\">\n",
       "      <th></th>\n",
       "      <th>Month_of_Stop</th>\n",
       "      <th>Reason_for_Stop</th>\n",
       "      <th>Officer_Race</th>\n",
       "      <th>Officer_Gender</th>\n",
       "      <th>Officer_Years_of_Service</th>\n",
       "      <th>Driver_Race</th>\n",
       "      <th>Driver_Ethnicity</th>\n",
       "      <th>Driver_Gender</th>\n",
       "      <th>Driver_Age</th>\n",
       "      <th>Was_a_Search_Conducted</th>\n",
       "      <th>Result_of_Stop</th>\n",
       "      <th>CMPD_Division</th>\n",
       "      <th>ObjectID</th>\n",
       "      <th>CreationDate</th>\n",
       "      <th>Creator</th>\n",
       "      <th>EditDate</th>\n",
       "      <th>Editor</th>\n",
       "    </tr>\n",
       "  </thead>\n",
       "  <tbody>\n",
       "    <tr>\n",
       "      <th>0</th>\n",
       "      <td>2017/06</td>\n",
       "      <td>Vehicle Regulatory</td>\n",
       "      <td>White</td>\n",
       "      <td>Female</td>\n",
       "      <td>3</td>\n",
       "      <td>Black</td>\n",
       "      <td>Non-Hispanic</td>\n",
       "      <td>Male</td>\n",
       "      <td>23</td>\n",
       "      <td>No</td>\n",
       "      <td>Verbal Warning</td>\n",
       "      <td>North Tryon Division</td>\n",
       "      <td>3001</td>\n",
       "      <td>2019-02-16T10:01:44.227Z</td>\n",
       "      <td>CharlotteNC</td>\n",
       "      <td>2019-02-16T10:01:44.227Z</td>\n",
       "      <td>CharlotteNC</td>\n",
       "    </tr>\n",
       "    <tr>\n",
       "      <th>1</th>\n",
       "      <td>2017/06</td>\n",
       "      <td>Vehicle Regulatory</td>\n",
       "      <td>White</td>\n",
       "      <td>Male</td>\n",
       "      <td>2</td>\n",
       "      <td>Black</td>\n",
       "      <td>Non-Hispanic</td>\n",
       "      <td>Male</td>\n",
       "      <td>36</td>\n",
       "      <td>No</td>\n",
       "      <td>Verbal Warning</td>\n",
       "      <td>Central Division</td>\n",
       "      <td>3002</td>\n",
       "      <td>2019-02-16T10:01:44.227Z</td>\n",
       "      <td>CharlotteNC</td>\n",
       "      <td>2019-02-16T10:01:44.227Z</td>\n",
       "      <td>CharlotteNC</td>\n",
       "    </tr>\n",
       "    <tr>\n",
       "      <th>2</th>\n",
       "      <td>2017/06</td>\n",
       "      <td>Stop Light/Sign</td>\n",
       "      <td>White</td>\n",
       "      <td>Male</td>\n",
       "      <td>5</td>\n",
       "      <td>Black</td>\n",
       "      <td>Non-Hispanic</td>\n",
       "      <td>Male</td>\n",
       "      <td>45</td>\n",
       "      <td>No</td>\n",
       "      <td>Verbal Warning</td>\n",
       "      <td>Central Division</td>\n",
       "      <td>3003</td>\n",
       "      <td>2019-02-16T10:01:44.227Z</td>\n",
       "      <td>CharlotteNC</td>\n",
       "      <td>2019-02-16T10:01:44.227Z</td>\n",
       "      <td>CharlotteNC</td>\n",
       "    </tr>\n",
       "    <tr>\n",
       "      <th>3</th>\n",
       "      <td>2017/06</td>\n",
       "      <td>Vehicle Equipment</td>\n",
       "      <td>White</td>\n",
       "      <td>Male</td>\n",
       "      <td>10</td>\n",
       "      <td>White</td>\n",
       "      <td>Non-Hispanic</td>\n",
       "      <td>Male</td>\n",
       "      <td>30</td>\n",
       "      <td>No</td>\n",
       "      <td>Verbal Warning</td>\n",
       "      <td>South Division</td>\n",
       "      <td>3004</td>\n",
       "      <td>2019-02-16T10:01:44.227Z</td>\n",
       "      <td>CharlotteNC</td>\n",
       "      <td>2019-02-16T10:01:44.227Z</td>\n",
       "      <td>CharlotteNC</td>\n",
       "    </tr>\n",
       "    <tr>\n",
       "      <th>4</th>\n",
       "      <td>2017/06</td>\n",
       "      <td>Stop Light/Sign</td>\n",
       "      <td>White</td>\n",
       "      <td>Male</td>\n",
       "      <td>2</td>\n",
       "      <td>Black</td>\n",
       "      <td>Non-Hispanic</td>\n",
       "      <td>Female</td>\n",
       "      <td>37</td>\n",
       "      <td>No</td>\n",
       "      <td>Verbal Warning</td>\n",
       "      <td>Central Division</td>\n",
       "      <td>3005</td>\n",
       "      <td>2019-02-16T10:01:44.227Z</td>\n",
       "      <td>CharlotteNC</td>\n",
       "      <td>2019-02-16T10:01:44.227Z</td>\n",
       "      <td>CharlotteNC</td>\n",
       "    </tr>\n",
       "    <tr>\n",
       "      <th>...</th>\n",
       "      <td>...</td>\n",
       "      <td>...</td>\n",
       "      <td>...</td>\n",
       "      <td>...</td>\n",
       "      <td>...</td>\n",
       "      <td>...</td>\n",
       "      <td>...</td>\n",
       "      <td>...</td>\n",
       "      <td>...</td>\n",
       "      <td>...</td>\n",
       "      <td>...</td>\n",
       "      <td>...</td>\n",
       "      <td>...</td>\n",
       "      <td>...</td>\n",
       "      <td>...</td>\n",
       "      <td>...</td>\n",
       "      <td>...</td>\n",
       "    </tr>\n",
       "    <tr>\n",
       "      <th>68483</th>\n",
       "      <td>2017/06</td>\n",
       "      <td>Vehicle Regulatory</td>\n",
       "      <td>White</td>\n",
       "      <td>Female</td>\n",
       "      <td>16</td>\n",
       "      <td>White</td>\n",
       "      <td>Non-Hispanic</td>\n",
       "      <td>Male</td>\n",
       "      <td>35</td>\n",
       "      <td>No</td>\n",
       "      <td>Citation Issued</td>\n",
       "      <td>South Division</td>\n",
       "      <td>67996</td>\n",
       "      <td>2019-02-16T10:01:44.227Z</td>\n",
       "      <td>CharlotteNC</td>\n",
       "      <td>2019-02-16T10:01:44.227Z</td>\n",
       "      <td>CharlotteNC</td>\n",
       "    </tr>\n",
       "    <tr>\n",
       "      <th>68484</th>\n",
       "      <td>2017/06</td>\n",
       "      <td>Stop Light/Sign</td>\n",
       "      <td>Black/African American</td>\n",
       "      <td>Male</td>\n",
       "      <td>3</td>\n",
       "      <td>Black</td>\n",
       "      <td>Non-Hispanic</td>\n",
       "      <td>Female</td>\n",
       "      <td>24</td>\n",
       "      <td>No</td>\n",
       "      <td>Written Warning</td>\n",
       "      <td>Metro Division</td>\n",
       "      <td>67997</td>\n",
       "      <td>2019-02-16T10:01:44.227Z</td>\n",
       "      <td>CharlotteNC</td>\n",
       "      <td>2019-02-16T10:01:44.227Z</td>\n",
       "      <td>CharlotteNC</td>\n",
       "    </tr>\n",
       "    <tr>\n",
       "      <th>68485</th>\n",
       "      <td>2017/06</td>\n",
       "      <td>Vehicle Regulatory</td>\n",
       "      <td>White</td>\n",
       "      <td>Female</td>\n",
       "      <td>2</td>\n",
       "      <td>Black</td>\n",
       "      <td>Non-Hispanic</td>\n",
       "      <td>Male</td>\n",
       "      <td>20</td>\n",
       "      <td>No</td>\n",
       "      <td>Written Warning</td>\n",
       "      <td>Hickory Grove Division</td>\n",
       "      <td>67998</td>\n",
       "      <td>2019-02-16T10:01:44.227Z</td>\n",
       "      <td>CharlotteNC</td>\n",
       "      <td>2019-02-16T10:01:44.227Z</td>\n",
       "      <td>CharlotteNC</td>\n",
       "    </tr>\n",
       "    <tr>\n",
       "      <th>68486</th>\n",
       "      <td>2017/06</td>\n",
       "      <td>Stop Light/Sign</td>\n",
       "      <td>Black/African American</td>\n",
       "      <td>Male</td>\n",
       "      <td>6</td>\n",
       "      <td>White</td>\n",
       "      <td>Non-Hispanic</td>\n",
       "      <td>Male</td>\n",
       "      <td>43</td>\n",
       "      <td>No</td>\n",
       "      <td>Citation Issued</td>\n",
       "      <td>Independence Division</td>\n",
       "      <td>67999</td>\n",
       "      <td>2019-02-16T10:01:44.227Z</td>\n",
       "      <td>CharlotteNC</td>\n",
       "      <td>2019-02-16T10:01:44.227Z</td>\n",
       "      <td>CharlotteNC</td>\n",
       "    </tr>\n",
       "    <tr>\n",
       "      <th>68487</th>\n",
       "      <td>2017/06</td>\n",
       "      <td>Speeding</td>\n",
       "      <td>Hispanic/Latino</td>\n",
       "      <td>Male</td>\n",
       "      <td>19</td>\n",
       "      <td>White</td>\n",
       "      <td>Hispanic</td>\n",
       "      <td>Female</td>\n",
       "      <td>37</td>\n",
       "      <td>No</td>\n",
       "      <td>Written Warning</td>\n",
       "      <td>South Division</td>\n",
       "      <td>68000</td>\n",
       "      <td>2019-02-16T10:01:44.227Z</td>\n",
       "      <td>CharlotteNC</td>\n",
       "      <td>2019-02-16T10:01:44.227Z</td>\n",
       "      <td>CharlotteNC</td>\n",
       "    </tr>\n",
       "  </tbody>\n",
       "</table>\n",
       "<p>68488 rows × 17 columns</p>\n",
       "</div>"
      ],
      "text/plain": [
       "      Month_of_Stop            Reason_for_Stop            Officer_Race  \\\n",
       "0           2017/06  Vehicle Regulatory                          White   \n",
       "1           2017/06  Vehicle Regulatory                          White   \n",
       "2           2017/06  Stop Light/Sign                             White   \n",
       "3           2017/06  Vehicle Equipment                           White   \n",
       "4           2017/06  Stop Light/Sign                             White   \n",
       "...             ...                        ...                     ...   \n",
       "68483       2017/06  Vehicle Regulatory                          White   \n",
       "68484       2017/06  Stop Light/Sign            Black/African American   \n",
       "68485       2017/06  Vehicle Regulatory                          White   \n",
       "68486       2017/06  Stop Light/Sign            Black/African American   \n",
       "68487       2017/06  Speeding                          Hispanic/Latino   \n",
       "\n",
       "      Officer_Gender  Officer_Years_of_Service Driver_Race Driver_Ethnicity  \\\n",
       "0             Female                         3       Black     Non-Hispanic   \n",
       "1               Male                         2       Black     Non-Hispanic   \n",
       "2               Male                         5       Black     Non-Hispanic   \n",
       "3               Male                        10       White     Non-Hispanic   \n",
       "4               Male                         2       Black     Non-Hispanic   \n",
       "...              ...                       ...         ...              ...   \n",
       "68483         Female                        16       White     Non-Hispanic   \n",
       "68484           Male                         3       Black     Non-Hispanic   \n",
       "68485         Female                         2       Black     Non-Hispanic   \n",
       "68486           Male                         6       White     Non-Hispanic   \n",
       "68487           Male                        19       White         Hispanic   \n",
       "\n",
       "      Driver_Gender  Driver_Age Was_a_Search_Conducted   Result_of_Stop  \\\n",
       "0              Male          23                     No   Verbal Warning   \n",
       "1              Male          36                     No   Verbal Warning   \n",
       "2              Male          45                     No   Verbal Warning   \n",
       "3              Male          30                     No   Verbal Warning   \n",
       "4            Female          37                     No   Verbal Warning   \n",
       "...             ...         ...                    ...              ...   \n",
       "68483          Male          35                     No  Citation Issued   \n",
       "68484        Female          24                     No  Written Warning   \n",
       "68485          Male          20                     No  Written Warning   \n",
       "68486          Male          43                     No  Citation Issued   \n",
       "68487        Female          37                     No  Written Warning   \n",
       "\n",
       "                CMPD_Division  ObjectID              CreationDate  \\\n",
       "0        North Tryon Division      3001  2019-02-16T10:01:44.227Z   \n",
       "1            Central Division      3002  2019-02-16T10:01:44.227Z   \n",
       "2            Central Division      3003  2019-02-16T10:01:44.227Z   \n",
       "3              South Division      3004  2019-02-16T10:01:44.227Z   \n",
       "4            Central Division      3005  2019-02-16T10:01:44.227Z   \n",
       "...                       ...       ...                       ...   \n",
       "68483          South Division     67996  2019-02-16T10:01:44.227Z   \n",
       "68484          Metro Division     67997  2019-02-16T10:01:44.227Z   \n",
       "68485  Hickory Grove Division     67998  2019-02-16T10:01:44.227Z   \n",
       "68486   Independence Division     67999  2019-02-16T10:01:44.227Z   \n",
       "68487          South Division     68000  2019-02-16T10:01:44.227Z   \n",
       "\n",
       "           Creator                  EditDate       Editor  \n",
       "0      CharlotteNC  2019-02-16T10:01:44.227Z  CharlotteNC  \n",
       "1      CharlotteNC  2019-02-16T10:01:44.227Z  CharlotteNC  \n",
       "2      CharlotteNC  2019-02-16T10:01:44.227Z  CharlotteNC  \n",
       "3      CharlotteNC  2019-02-16T10:01:44.227Z  CharlotteNC  \n",
       "4      CharlotteNC  2019-02-16T10:01:44.227Z  CharlotteNC  \n",
       "...            ...                       ...          ...  \n",
       "68483  CharlotteNC  2019-02-16T10:01:44.227Z  CharlotteNC  \n",
       "68484  CharlotteNC  2019-02-16T10:01:44.227Z  CharlotteNC  \n",
       "68485  CharlotteNC  2019-02-16T10:01:44.227Z  CharlotteNC  \n",
       "68486  CharlotteNC  2019-02-16T10:01:44.227Z  CharlotteNC  \n",
       "68487  CharlotteNC  2019-02-16T10:01:44.227Z  CharlotteNC  \n",
       "\n",
       "[68488 rows x 17 columns]"
      ]
     },
     "execution_count": 4,
     "metadata": {},
     "output_type": "execute_result"
    }
   ],
   "source": [
    "# view the data by just typing the dataframe name\n",
    "stops"
   ]
  },
  {
   "cell_type": "code",
   "execution_count": 5,
   "metadata": {},
   "outputs": [
    {
     "name": "stdout",
     "output_type": "stream",
     "text": [
      "<class 'pandas.core.frame.DataFrame'>\n",
      "RangeIndex: 68488 entries, 0 to 68487\n",
      "Data columns (total 17 columns):\n",
      " #   Column                    Non-Null Count  Dtype \n",
      "---  ------                    --------------  ----- \n",
      " 0   Month_of_Stop             68488 non-null  object\n",
      " 1   Reason_for_Stop           68488 non-null  object\n",
      " 2   Officer_Race              68488 non-null  object\n",
      " 3   Officer_Gender            68488 non-null  object\n",
      " 4   Officer_Years_of_Service  68488 non-null  int64 \n",
      " 5   Driver_Race               68488 non-null  object\n",
      " 6   Driver_Ethnicity          68488 non-null  object\n",
      " 7   Driver_Gender             68488 non-null  object\n",
      " 8   Driver_Age                68488 non-null  int64 \n",
      " 9   Was_a_Search_Conducted    68488 non-null  object\n",
      " 10  Result_of_Stop            68488 non-null  object\n",
      " 11  CMPD_Division             67532 non-null  object\n",
      " 12  ObjectID                  68488 non-null  int64 \n",
      " 13  CreationDate              68488 non-null  object\n",
      " 14  Creator                   68488 non-null  object\n",
      " 15  EditDate                  68488 non-null  object\n",
      " 16  Editor                    68488 non-null  object\n",
      "dtypes: int64(3), object(14)\n",
      "memory usage: 8.9+ MB\n"
     ]
    }
   ],
   "source": [
    "# check the data using df.info()\n",
    "stops.info()"
   ]
  },
  {
   "cell_type": "markdown",
   "metadata": {},
   "source": [
    "You will notice object and int64 this may not be what we would like so lets remember that\n",
    "\n",
    "Let's consider our target variable: `Was_a_Search_Conducted`.\n",
    "\n",
    "**Plot** a bar chart that counts the number of records by `Was_a_Search_Conducted`."
   ]
  },
  {
   "cell_type": "code",
   "execution_count": 29,
   "metadata": {},
   "outputs": [
    {
     "data": {
      "text/html": [
       "\n",
       "<style>\n",
       "  #altair-viz-3ede407dbac84578948ff9fc303d0198.vega-embed {\n",
       "    width: 100%;\n",
       "    display: flex;\n",
       "  }\n",
       "\n",
       "  #altair-viz-3ede407dbac84578948ff9fc303d0198.vega-embed details,\n",
       "  #altair-viz-3ede407dbac84578948ff9fc303d0198.vega-embed details summary {\n",
       "    position: relative;\n",
       "  }\n",
       "</style>\n",
       "<div id=\"altair-viz-3ede407dbac84578948ff9fc303d0198\"></div>\n",
       "<script type=\"text/javascript\">\n",
       "  var VEGA_DEBUG = (typeof VEGA_DEBUG == \"undefined\") ? {} : VEGA_DEBUG;\n",
       "  (function(spec, embedOpt){\n",
       "    let outputDiv = document.currentScript.previousElementSibling;\n",
       "    if (outputDiv.id !== \"altair-viz-3ede407dbac84578948ff9fc303d0198\") {\n",
       "      outputDiv = document.getElementById(\"altair-viz-3ede407dbac84578948ff9fc303d0198\");\n",
       "    }\n",
       "    const paths = {\n",
       "      \"vega\": \"https://cdn.jsdelivr.net/npm/vega@5?noext\",\n",
       "      \"vega-lib\": \"https://cdn.jsdelivr.net/npm/vega-lib?noext\",\n",
       "      \"vega-lite\": \"https://cdn.jsdelivr.net/npm/vega-lite@5.15.1?noext\",\n",
       "      \"vega-embed\": \"https://cdn.jsdelivr.net/npm/vega-embed@6?noext\",\n",
       "    };\n",
       "\n",
       "    function maybeLoadScript(lib, version) {\n",
       "      var key = `${lib.replace(\"-\", \"\")}_version`;\n",
       "      return (VEGA_DEBUG[key] == version) ?\n",
       "        Promise.resolve(paths[lib]) :\n",
       "        new Promise(function(resolve, reject) {\n",
       "          var s = document.createElement('script');\n",
       "          document.getElementsByTagName(\"head\")[0].appendChild(s);\n",
       "          s.async = true;\n",
       "          s.onload = () => {\n",
       "            VEGA_DEBUG[key] = version;\n",
       "            return resolve(paths[lib]);\n",
       "          };\n",
       "          s.onerror = () => reject(`Error loading script: ${paths[lib]}`);\n",
       "          s.src = paths[lib];\n",
       "        });\n",
       "    }\n",
       "\n",
       "    function showError(err) {\n",
       "      outputDiv.innerHTML = `<div class=\"error\" style=\"color:red;\">${err}</div>`;\n",
       "      throw err;\n",
       "    }\n",
       "\n",
       "    function displayChart(vegaEmbed) {\n",
       "      vegaEmbed(outputDiv, spec, embedOpt)\n",
       "        .catch(err => showError(`Javascript Error: ${err.message}<br>This usually means there's a typo in your chart specification. See the javascript console for the full traceback.`));\n",
       "    }\n",
       "\n",
       "    if(typeof define === \"function\" && define.amd) {\n",
       "      requirejs.config({paths});\n",
       "      require([\"vega-embed\"], displayChart, err => showError(`Error loading script: ${err.message}`));\n",
       "    } else {\n",
       "      maybeLoadScript(\"vega\", \"5\")\n",
       "        .then(() => maybeLoadScript(\"vega-lite\", \"5.15.1\"))\n",
       "        .then(() => maybeLoadScript(\"vega-embed\", \"6\"))\n",
       "        .catch(showError)\n",
       "        .then(() => displayChart(vegaEmbed));\n",
       "    }\n",
       "  })({\"config\": {\"view\": {\"continuousWidth\": 300, \"continuousHeight\": 300}}, \"data\": {\"name\": \"data-02138940271fb41b803134ea5dee1a0c\"}, \"mark\": {\"type\": \"bar\"}, \"encoding\": {\"x\": {\"field\": \"value\", \"type\": \"nominal\"}, \"y\": {\"field\": \"count\", \"type\": \"quantitative\"}}, \"$schema\": \"https://vega.github.io/schema/vega-lite/v5.15.1.json\", \"datasets\": {\"data-02138940271fb41b803134ea5dee1a0c\": [{\"value\": \"No\", \"count\": 65440}, {\"value\": \"Yes\", \"count\": 3048}]}}, {\"mode\": \"vega-lite\"});\n",
       "</script>"
      ],
      "text/plain": [
       "alt.Chart(...)"
      ]
     },
     "execution_count": 29,
     "metadata": {},
     "output_type": "execute_result"
    }
   ],
   "source": [
    "\n",
    "counts = stops['Was_a_Search_Conducted'].value_counts()\n",
    "df_counts = pd.DataFrame({'value': counts.index, 'count': counts.values})\n",
    "df_counts\n",
    "\n",
    "chart = alt.Chart(df_counts).mark_bar().encode(\n",
    "    x='value',\n",
    "    y='count',\n",
    ")\n",
    "chart"
   ]
  },
  {
   "cell_type": "code",
   "execution_count": 17,
   "metadata": {},
   "outputs": [
    {
     "data": {
      "text/plain": [
       "<Axes: xlabel='Was_a_Search_Conducted'>"
      ]
     },
     "execution_count": 17,
     "metadata": {},
     "output_type": "execute_result"
    },
    {
     "data": {
      "image/png": "[encoded data removed]",
      "text/plain": [
       "<Figure size 640x480 with 1 Axes>"
      ]
     },
     "metadata": {},
     "output_type": "display_data"
    }
   ],
   "source": [
    "## Bar chart\n",
    "stops.Was_a_Search_Conducted.value_counts().plot(kind='bar')\n"
   ]
  },
  {
   "cell_type": "markdown",
   "metadata": {},
   "source": [
    "Next, let's consider the age range of the driver. \n",
    "\n",
    "**Plot** a histogram of `Driver_Age`. Determine an appropriate number of bins."
   ]
  },
  {
   "cell_type": "code",
   "execution_count": 18,
   "metadata": {},
   "outputs": [
    {
     "data": {
      "text/plain": [
       "(array([3.1270e+03, 2.2815e+04, 1.8327e+04, 1.2787e+04, 7.4520e+03,\n",
       "        3.0300e+03, 7.7800e+02, 1.5700e+02, 1.2000e+01, 3.0000e+00]),\n",
       " array([ 10.,  20.,  30.,  40.,  50.,  60.,  70.,  80.,  90., 100., 110.]),\n",
       " <BarContainer object of 10 artists>)"
      ]
     },
     "execution_count": 18,
     "metadata": {},
     "output_type": "execute_result"
    },
    {
     "data": {
      "image/png": "[encoded data removed]",
      "text/plain": [
       "<Figure size 640x480 with 1 Axes>"
      ]
     },
     "metadata": {},
     "output_type": "display_data"
    }
   ],
   "source": [
    "## Histogram\n",
    "\n",
    "plt.hist(stops.Driver_Age)"
   ]
  },
  {
   "cell_type": "markdown",
   "metadata": {},
   "source": [
    "Once you go above (around) 40-50 bins, you'll notice some points stick out. \n",
    "\n",
    "What is happening? xxxxx"
   ]
  },
  {
   "cell_type": "markdown",
   "metadata": {},
   "source": [
    "**Plot** a box plot with `Was_a_Search_Conducted` on the x-axis and `Driver_Age` on the y-axis."
   ]
  },
  {
   "cell_type": "code",
   "execution_count": 59,
   "metadata": {},
   "outputs": [
    {
     "ename": "ImportError",
     "evalue": "The \"vegafusion\" data transformer and chart.transformed_data feature requires\nversion 1.4.0 or greater of the 'vegafusion-python-embed' and 'vegafusion' packages.\nThese can be installed with pip using:\n    pip install \"vegafusion[embed]>=1.4.0\"\nOr with conda using:\n    conda install -c conda-forge \"vegafusion-python-embed>=1.4.0\" \"vegafusion>=1.4.0\"\n\nImportError: vegafusion",
     "output_type": "error",
     "traceback": [
      "\u001b[1;31m---------------------------------------------------------------------------\u001b[0m",
      "\u001b[1;31mPackageNotFoundError\u001b[0m                      Traceback (most recent call last)",
      "File \u001b[1;32mc:\\Users\\LakuJayanth\\Documents\\UNCC\\DSBA_5122\\Streamlit\\Data\\HW_11_20_2023\\CMPD-Traffic-stops\\.venv\\lib\\site-packages\\altair\\utils\\_importers.py:9\u001b[0m, in \u001b[0;36mimport_vegafusion\u001b[1;34m()\u001b[0m\n\u001b[0;32m      8\u001b[0m \u001b[39mtry\u001b[39;00m:\n\u001b[1;32m----> 9\u001b[0m     version \u001b[39m=\u001b[39m importlib_version(\u001b[39m\"\u001b[39;49m\u001b[39mvegafusion\u001b[39;49m\u001b[39m\"\u001b[39;49m)\n\u001b[0;32m     10\u001b[0m     \u001b[39mif\u001b[39;00m Version(version) \u001b[39m<\u001b[39m Version(min_version):\n",
      "File \u001b[1;32mc:\\Users\\LakuJayanth\\AppData\\Local\\Programs\\Python\\Python310\\lib\\importlib\\metadata\\__init__.py:996\u001b[0m, in \u001b[0;36mversion\u001b[1;34m(distribution_name)\u001b[0m\n\u001b[0;32m    990\u001b[0m \u001b[39m\u001b[39m\u001b[39m\"\"\"Get the version string for the named package.\u001b[39;00m\n\u001b[0;32m    991\u001b[0m \n\u001b[0;32m    992\u001b[0m \u001b[39m:param distribution_name: The name of the distribution package to query.\u001b[39;00m\n\u001b[0;32m    993\u001b[0m \u001b[39m:return: The version string for the package as defined in the package's\u001b[39;00m\n\u001b[0;32m    994\u001b[0m \u001b[39m    \"Version\" metadata key.\u001b[39;00m\n\u001b[0;32m    995\u001b[0m \u001b[39m\"\"\"\u001b[39;00m\n\u001b[1;32m--> 996\u001b[0m \u001b[39mreturn\u001b[39;00m distribution(distribution_name)\u001b[39m.\u001b[39mversion\n",
      "File \u001b[1;32mc:\\Users\\LakuJayanth\\AppData\\Local\\Programs\\Python\\Python310\\lib\\importlib\\metadata\\__init__.py:969\u001b[0m, in \u001b[0;36mdistribution\u001b[1;34m(distribution_name)\u001b[0m\n\u001b[0;32m    964\u001b[0m \u001b[39m\u001b[39m\u001b[39m\"\"\"Get the ``Distribution`` instance for the named package.\u001b[39;00m\n\u001b[0;32m    965\u001b[0m \n\u001b[0;32m    966\u001b[0m \u001b[39m:param distribution_name: The name of the distribution package as a string.\u001b[39;00m\n\u001b[0;32m    967\u001b[0m \u001b[39m:return: A ``Distribution`` instance (or subclass thereof).\u001b[39;00m\n\u001b[0;32m    968\u001b[0m \u001b[39m\"\"\"\u001b[39;00m\n\u001b[1;32m--> 969\u001b[0m \u001b[39mreturn\u001b[39;00m Distribution\u001b[39m.\u001b[39;49mfrom_name(distribution_name)\n",
      "File \u001b[1;32mc:\\Users\\LakuJayanth\\AppData\\Local\\Programs\\Python\\Python310\\lib\\importlib\\metadata\\__init__.py:548\u001b[0m, in \u001b[0;36mDistribution.from_name\u001b[1;34m(cls, name)\u001b[0m\n\u001b[0;32m    547\u001b[0m \u001b[39melse\u001b[39;00m:\n\u001b[1;32m--> 548\u001b[0m     \u001b[39mraise\u001b[39;00m PackageNotFoundError(name)\n",
      "\u001b[1;31mPackageNotFoundError\u001b[0m: No package metadata was found for vegafusion",
      "\nThe above exception was the direct cause of the following exception:\n",
      "\u001b[1;31mImportError\u001b[0m                               Traceback (most recent call last)",
      "File \u001b[1;32mc:\\Users\\LakuJayanth\\Documents\\UNCC\\DSBA_5122\\Streamlit\\Data\\HW_11_20_2023\\CMPD-Traffic-stops\\.venv\\lib\\site-packages\\IPython\\core\\formatters.py:974\u001b[0m, in \u001b[0;36mMimeBundleFormatter.__call__\u001b[1;34m(self, obj, include, exclude)\u001b[0m\n\u001b[0;32m    971\u001b[0m     method \u001b[39m=\u001b[39m get_real_method(obj, \u001b[39mself\u001b[39m\u001b[39m.\u001b[39mprint_method)\n\u001b[0;32m    973\u001b[0m     \u001b[39mif\u001b[39;00m method \u001b[39mis\u001b[39;00m \u001b[39mnot\u001b[39;00m \u001b[39mNone\u001b[39;00m:\n\u001b[1;32m--> 974\u001b[0m         \u001b[39mreturn\u001b[39;00m method(include\u001b[39m=\u001b[39;49minclude, exclude\u001b[39m=\u001b[39;49mexclude)\n\u001b[0;32m    975\u001b[0m     \u001b[39mreturn\u001b[39;00m \u001b[39mNone\u001b[39;00m\n\u001b[0;32m    976\u001b[0m \u001b[39melse\u001b[39;00m:\n",
      "File \u001b[1;32mc:\\Users\\LakuJayanth\\Documents\\UNCC\\DSBA_5122\\Streamlit\\Data\\HW_11_20_2023\\CMPD-Traffic-stops\\.venv\\lib\\site-packages\\altair\\vegalite\\v5\\api.py:2315\u001b[0m, in \u001b[0;36mTopLevelMixin._repr_mimebundle_\u001b[1;34m(self, include, exclude)\u001b[0m\n\u001b[0;32m   2313\u001b[0m     \u001b[39mreturn\u001b[39;00m {}\n\u001b[0;32m   2314\u001b[0m \u001b[39melse\u001b[39;00m:\n\u001b[1;32m-> 2315\u001b[0m     \u001b[39mreturn\u001b[39;00m renderers\u001b[39m.\u001b[39;49mget()(dct)\n",
      "File \u001b[1;32mc:\\Users\\LakuJayanth\\Documents\\UNCC\\DSBA_5122\\Streamlit\\Data\\HW_11_20_2023\\CMPD-Traffic-stops\\.venv\\lib\\site-packages\\altair\\utils\\display.py:213\u001b[0m, in \u001b[0;36mHTMLRenderer.__call__\u001b[1;34m(self, spec, **metadata)\u001b[0m\n\u001b[0;32m    211\u001b[0m kwargs \u001b[39m=\u001b[39m \u001b[39mself\u001b[39m\u001b[39m.\u001b[39mkwargs\u001b[39m.\u001b[39mcopy()\n\u001b[0;32m    212\u001b[0m kwargs\u001b[39m.\u001b[39mupdate(metadata)\n\u001b[1;32m--> 213\u001b[0m \u001b[39mreturn\u001b[39;00m spec_to_mimebundle(\n\u001b[0;32m    214\u001b[0m     spec, \u001b[39mformat\u001b[39m\u001b[39m=\u001b[39m\u001b[39m\"\u001b[39m\u001b[39mhtml\u001b[39m\u001b[39m\"\u001b[39m, output_div\u001b[39m=\u001b[39m\u001b[39mself\u001b[39m\u001b[39m.\u001b[39moutput_div, \u001b[39m*\u001b[39m\u001b[39m*\u001b[39mkwargs\n\u001b[0;32m    215\u001b[0m )\n",
      "File \u001b[1;32mc:\\Users\\LakuJayanth\\Documents\\UNCC\\DSBA_5122\\Streamlit\\Data\\HW_11_20_2023\\CMPD-Traffic-stops\\.venv\\lib\\site-packages\\altair\\utils\\mimebundle.py:56\u001b[0m, in \u001b[0;36mspec_to_mimebundle\u001b[1;34m(spec, format, mode, vega_version, vegaembed_version, vegalite_version, engine, **kwargs)\u001b[0m\n\u001b[0;32m     53\u001b[0m     \u001b[39mraise\u001b[39;00m \u001b[39mValueError\u001b[39;00m(\u001b[39m\"\u001b[39m\u001b[39mmode must be \u001b[39m\u001b[39m'\u001b[39m\u001b[39mvega-lite\u001b[39m\u001b[39m'\u001b[39m\u001b[39m\"\u001b[39m)\n\u001b[0;32m     55\u001b[0m \u001b[39mif\u001b[39;00m using_vegafusion():\n\u001b[1;32m---> 56\u001b[0m     spec \u001b[39m=\u001b[39m compile_with_vegafusion(spec)\n\u001b[0;32m     57\u001b[0m     mode \u001b[39m=\u001b[39m \u001b[39m\"\u001b[39m\u001b[39mvega\u001b[39m\u001b[39m\"\u001b[39m\n\u001b[0;32m     59\u001b[0m \u001b[39mif\u001b[39;00m \u001b[39mformat\u001b[39m \u001b[39min\u001b[39;00m [\u001b[39m\"\u001b[39m\u001b[39mpng\u001b[39m\u001b[39m\"\u001b[39m, \u001b[39m\"\u001b[39m\u001b[39msvg\u001b[39m\u001b[39m\"\u001b[39m, \u001b[39m\"\u001b[39m\u001b[39mpdf\u001b[39m\u001b[39m\"\u001b[39m, \u001b[39m\"\u001b[39m\u001b[39mvega\u001b[39m\u001b[39m\"\u001b[39m]:\n",
      "File \u001b[1;32mc:\\Users\\LakuJayanth\\Documents\\UNCC\\DSBA_5122\\Streamlit\\Data\\HW_11_20_2023\\CMPD-Traffic-stops\\.venv\\lib\\site-packages\\altair\\utils\\_vegafusion_data.py:149\u001b[0m, in \u001b[0;36mcompile_with_vegafusion\u001b[1;34m(vegalite_spec)\u001b[0m\n\u001b[0;32m    146\u001b[0m \u001b[39m# Local import to avoid circular ImportError\u001b[39;00m\n\u001b[0;32m    147\u001b[0m \u001b[39mfrom\u001b[39;00m \u001b[39maltair\u001b[39;00m \u001b[39mimport\u001b[39;00m vegalite_compilers, data_transformers\n\u001b[1;32m--> 149\u001b[0m vf \u001b[39m=\u001b[39m import_vegafusion()\n\u001b[0;32m    151\u001b[0m \u001b[39m# Compile Vega-Lite spec to Vega\u001b[39;00m\n\u001b[0;32m    152\u001b[0m compiler \u001b[39m=\u001b[39m vegalite_compilers\u001b[39m.\u001b[39mget()\n",
      "File \u001b[1;32mc:\\Users\\LakuJayanth\\Documents\\UNCC\\DSBA_5122\\Streamlit\\Data\\HW_11_20_2023\\CMPD-Traffic-stops\\.venv\\lib\\site-packages\\altair\\utils\\_importers.py:19\u001b[0m, in \u001b[0;36mimport_vegafusion\u001b[1;34m()\u001b[0m\n\u001b[0;32m     17\u001b[0m     \u001b[39mreturn\u001b[39;00m vf\n\u001b[0;32m     18\u001b[0m \u001b[39mexcept\u001b[39;00m \u001b[39mImportError\u001b[39;00m \u001b[39mas\u001b[39;00m err:\n\u001b[1;32m---> 19\u001b[0m     \u001b[39mraise\u001b[39;00m \u001b[39mImportError\u001b[39;00m(\n\u001b[0;32m     20\u001b[0m         \u001b[39m'\u001b[39m\u001b[39mThe \u001b[39m\u001b[39m\"\u001b[39m\u001b[39mvegafusion\u001b[39m\u001b[39m\"\u001b[39m\u001b[39m data transformer and chart.transformed_data feature requires\u001b[39m\u001b[39m\\n\u001b[39;00m\u001b[39m'\u001b[39m\n\u001b[0;32m     21\u001b[0m         \u001b[39mf\u001b[39m\u001b[39m\"\u001b[39m\u001b[39mversion \u001b[39m\u001b[39m{\u001b[39;00mmin_version\u001b[39m}\u001b[39;00m\u001b[39m or greater of the \u001b[39m\u001b[39m'\u001b[39m\u001b[39mvegafusion-python-embed\u001b[39m\u001b[39m'\u001b[39m\u001b[39m and \u001b[39m\u001b[39m'\u001b[39m\u001b[39mvegafusion\u001b[39m\u001b[39m'\u001b[39m\u001b[39m packages.\u001b[39m\u001b[39m\\n\u001b[39;00m\u001b[39m\"\u001b[39m\n\u001b[0;32m     22\u001b[0m         \u001b[39m\"\u001b[39m\u001b[39mThese can be installed with pip using:\u001b[39m\u001b[39m\\n\u001b[39;00m\u001b[39m\"\u001b[39m\n\u001b[0;32m     23\u001b[0m         \u001b[39mf\u001b[39m\u001b[39m'\u001b[39m\u001b[39m    pip install \u001b[39m\u001b[39m\"\u001b[39m\u001b[39mvegafusion[embed]>=\u001b[39m\u001b[39m{\u001b[39;00mmin_version\u001b[39m}\u001b[39;00m\u001b[39m\"\u001b[39m\u001b[39m\\n\u001b[39;00m\u001b[39m'\u001b[39m\n\u001b[0;32m     24\u001b[0m         \u001b[39m\"\u001b[39m\u001b[39mOr with conda using:\u001b[39m\u001b[39m\\n\u001b[39;00m\u001b[39m\"\u001b[39m\n\u001b[0;32m     25\u001b[0m         \u001b[39mf\u001b[39m\u001b[39m'\u001b[39m\u001b[39m    conda install -c conda-forge \u001b[39m\u001b[39m\"\u001b[39m\u001b[39mvegafusion-python-embed>=\u001b[39m\u001b[39m{\u001b[39;00mmin_version\u001b[39m}\u001b[39;00m\u001b[39m\"\u001b[39m\u001b[39m \u001b[39m\u001b[39m'\u001b[39m\n\u001b[0;32m     26\u001b[0m         \u001b[39mf\u001b[39m\u001b[39m'\u001b[39m\u001b[39m\"\u001b[39m\u001b[39mvegafusion>=\u001b[39m\u001b[39m{\u001b[39;00mmin_version\u001b[39m}\u001b[39;00m\u001b[39m\"\u001b[39m\u001b[39m\\n\u001b[39;00m\u001b[39m\\n\u001b[39;00m\u001b[39m'\u001b[39m\n\u001b[0;32m     27\u001b[0m         \u001b[39mf\u001b[39m\u001b[39m\"\u001b[39m\u001b[39mImportError: \u001b[39m\u001b[39m{\u001b[39;00merr\u001b[39m.\u001b[39margs[\u001b[39m0\u001b[39m]\u001b[39m}\u001b[39;00m\u001b[39m\"\u001b[39m\n\u001b[0;32m     28\u001b[0m     ) \u001b[39mfrom\u001b[39;00m \u001b[39merr\u001b[39;00m\n",
      "\u001b[1;31mImportError\u001b[0m: The \"vegafusion\" data transformer and chart.transformed_data feature requires\nversion 1.4.0 or greater of the 'vegafusion-python-embed' and 'vegafusion' packages.\nThese can be installed with pip using:\n    pip install \"vegafusion[embed]>=1.4.0\"\nOr with conda using:\n    conda install -c conda-forge \"vegafusion-python-embed>=1.4.0\" \"vegafusion>=1.4.0\"\n\nImportError: vegafusion"
     ]
    },
    {
     "data": {
      "text/plain": [
       "alt.Chart(...)"
      ]
     },
     "execution_count": 59,
     "metadata": {},
     "output_type": "execute_result"
    }
   ],
   "source": [
    "# Create a dataframe\n",
    "# alt.data_transformers.disable_max_rows()\n",
    "alt.data_transformers.enable(\"vegafusion\")\n",
    "\n",
    "df_bp = pd.DataFrame({'x': stops.Was_a_Search_Conducted , 'y': stops.Driver_Age})\n",
    "df_bp\n",
    "# Create a boxplot chart\n",
    "chart = alt.Chart(df_bp).mark_boxplot().encode(\n",
    "    x='x',\n",
    "    y='y'\n",
    ")\n",
    "\n",
    "# Display the chart\n",
    "chart"
   ]
  },
  {
   "cell_type": "markdown",
   "metadata": {},
   "source": [
    "**Plot** a violin plot where the fill is the response variable \"Was_a_search_conducted\" https://altair-viz.github.io/gallery/violin_plot.html"
   ]
  },
  {
   "cell_type": "code",
   "execution_count": null,
   "metadata": {},
   "outputs": [],
   "source": [
    "# Violin plot"
   ]
  },
  {
   "cell_type": "markdown",
   "metadata": {},
   "source": [
    "From the plots above, do you think the age of the driver is a significant factor in whether a search was conducted? Why or why not? xxxxx"
   ]
  },
  {
   "cell_type": "markdown",
   "metadata": {},
   "source": [
    "## Date of stop\n",
    "\n",
    "Let's plot the number of stops by time. \n",
    "\n",
    "Recalling part one, the `Month_of_Stop` variable is a character, not a date variable. The datatime's are simply when the data was collected; not when the stop occurred. Therefore, we'll need to convert the `Month_of_Stop` variable from a character to a Date format.\n",
    "\n",
    "Uncomment out the next 4 code blocks these are given to you but please study and know what they do"
   ]
  },
  {
   "cell_type": "code",
   "execution_count": null,
   "metadata": {},
   "outputs": [],
   "source": [
    "#stops['Month_of_Stop'] = stops['Month_of_Stop'].astype('datetime64[ns]')"
   ]
  },
  {
   "cell_type": "code",
   "execution_count": null,
   "metadata": {},
   "outputs": [],
   "source": [
    "#stops['Month_of_Stop'] = pd.to_datetime(stops['Month_of_Stop'], format='%y%m%d')"
   ]
  },
  {
   "cell_type": "code",
   "execution_count": null,
   "metadata": {},
   "outputs": [],
   "source": [
    "#stops.info()"
   ]
  },
  {
   "cell_type": "code",
   "execution_count": null,
   "metadata": {},
   "outputs": [],
   "source": [
    "#stops"
   ]
  },
  {
   "cell_type": "markdown",
   "metadata": {},
   "source": [
    "**Plot** a line chart with the number of traffic stops for each month (hint: think about the aggregations we did in class.)."
   ]
  },
  {
   "cell_type": "code",
   "execution_count": null,
   "metadata": {},
   "outputs": [],
   "source": [
    "## Create a dataframe named stops_count for this graph that has a column named Month_of_Stop \n",
    "## Also create a column named count representing the ammount of stops per month  https://sparkbyexamples.com/pandas/pandas-groupby-count-examples/\n",
    "\n"
   ]
  },
  {
   "cell_type": "code",
   "execution_count": null,
   "metadata": {},
   "outputs": [],
   "source": [
    "## Line chart\n",
    "\n"
   ]
  },
  {
   "cell_type": "markdown",
   "metadata": {},
   "source": [
    "What is the trend (i.e., long term rate of change) of the number of traffic stops in Charlotte? xxxxx"
   ]
  },
  {
   "cell_type": "markdown",
   "metadata": {},
   "source": [
    "**Plot** the same plot but add in `.facet()` by the `Reason_for_Stop` variable."
   ]
  },
  {
   "cell_type": "code",
   "execution_count": null,
   "metadata": {},
   "outputs": [],
   "source": [
    "## create the dataframe that groups by month and reason for stop \n",
    "\n"
   ]
  },
  {
   "cell_type": "code",
   "execution_count": null,
   "metadata": {},
   "outputs": [],
   "source": [
    "## Facet chart https://stackoverflow.com/questions/64770801/python-altair-facet-line-plot-with-multiple-variables\n"
   ]
  },
  {
   "cell_type": "markdown",
   "metadata": {},
   "source": [
    "What is a problem with this plot? xxxxx"
   ]
  },
  {
   "cell_type": "markdown",
   "metadata": {},
   "source": [
    "To address this problem, you will need to figure out how to adjust the scale. To do this, you need to use altairs documentation to see whether there is a function that could help you.\n",
    "\n",
    "https://altair-viz.github.io/user_guide/scale_resolve.html\n",
    "\n",
    "What parameter allows you to modify the scales of `facet_wrap`? xxxxx"
   ]
  },
  {
   "cell_type": "markdown",
   "metadata": {},
   "source": [
    "**Plot** the same plot but with a free y-axis scale. (This may take some research but very findable)"
   ]
  },
  {
   "cell_type": "code",
   "execution_count": null,
   "metadata": {},
   "outputs": [],
   "source": [
    "# Updated Facet Chart"
   ]
  },
  {
   "cell_type": "markdown",
   "metadata": {},
   "source": [
    "Which type of police stop has had the most volatility (i.e., big swings in number of stops)? xxxxx"
   ]
  },
  {
   "cell_type": "markdown",
   "metadata": {},
   "source": [
    "What is one problem with allowing the y-axis be free? xxxxx"
   ]
  },
  {
   "cell_type": "markdown",
   "metadata": {},
   "source": [
    "Small multiples tends to be less effective when each of the variables are on different scales or magnitudes.\n",
    "\n",
    "Let's consider instead CMPD traffic stops but by CMPD division. These are more even spread by division than the type of stop.\n",
    "\n",
    "**Plot** a line chart for stops by `Date` but grouped by Division instead of reason"
   ]
  },
  {
   "cell_type": "code",
   "execution_count": null,
   "metadata": {},
   "outputs": [],
   "source": [
    "# Facet plot for division stops"
   ]
  },
  {
   "cell_type": "markdown",
   "metadata": {},
   "source": [
    "What are three observations you can make about the number of police stops by divison? (hint: just write about what's in the data.)\n",
    "\n",
    "1. xxxxx\n",
    "\n",
    "2. xxxxx\n",
    "\n",
    "3. xxxxx"
   ]
  }
 ],
 "metadata": {
  "kernelspec": {
   "display_name": "Python 3.8.13 ('streamlit_env')",
   "language": "python",
   "name": "python3"
  },
  "language_info": {
   "codemirror_mode": {
    "name": "ipython",
    "version": 3
   },
   "file_extension": ".py",
   "mimetype": "text/x-python",
   "name": "python",
   "nbconvert_exporter": "python",
   "pygments_lexer": "ipython3",
   "version": "3.10.11"
  },
  "orig_nbformat": 4,
  "vscode": {
   "interpreter": {
    "hash": "27ef454d43efc622c91ad69957169a3babd55091e91d4c832acb6e0ff1063b8e"
   }
  }
 },
 "nbformat": 4,
 "nbformat_minor": 2
}
