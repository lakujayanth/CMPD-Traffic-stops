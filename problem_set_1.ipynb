{
 "cells": [
  {
   "cell_type": "code",
   "execution_count": 1,
   "metadata": {},
   "outputs": [],
   "source": [
    "# Import packages\n",
    "\n",
    "import pandas as pd\n",
    "import altair as alt"
   ]
  },
  {
   "cell_type": "code",
   "execution_count": 2,
   "metadata": {},
   "outputs": [
    {
     "data": {
      "text/html": [
       "<div>\n",
       "<style scoped>\n",
       "    .dataframe tbody tr th:only-of-type {\n",
       "        vertical-align: middle;\n",
       "    }\n",
       "\n",
       "    .dataframe tbody tr th {\n",
       "        vertical-align: top;\n",
       "    }\n",
       "\n",
       "    .dataframe thead th {\n",
       "        text-align: right;\n",
       "    }\n",
       "</style>\n",
       "<table border=\"1\" class=\"dataframe\">\n",
       "  <thead>\n",
       "    <tr style=\"text-align: right;\">\n",
       "      <th></th>\n",
       "      <th>Month_of_Stop</th>\n",
       "      <th>Reason_for_Stop</th>\n",
       "      <th>Officer_Race</th>\n",
       "      <th>Officer_Gender</th>\n",
       "      <th>Officer_Years_of_Service</th>\n",
       "      <th>Driver_Race</th>\n",
       "      <th>Driver_Ethnicity</th>\n",
       "      <th>Driver_Gender</th>\n",
       "      <th>Driver_Age</th>\n",
       "      <th>Was_a_Search_Conducted</th>\n",
       "      <th>Result_of_Stop</th>\n",
       "      <th>CMPD_Division</th>\n",
       "      <th>ObjectID</th>\n",
       "      <th>CreationDate</th>\n",
       "      <th>Creator</th>\n",
       "      <th>EditDate</th>\n",
       "      <th>Editor</th>\n",
       "    </tr>\n",
       "  </thead>\n",
       "  <tbody>\n",
       "    <tr>\n",
       "      <th>0</th>\n",
       "      <td>2017/06</td>\n",
       "      <td>Vehicle Regulatory</td>\n",
       "      <td>White</td>\n",
       "      <td>Female</td>\n",
       "      <td>3</td>\n",
       "      <td>Black</td>\n",
       "      <td>Non-Hispanic</td>\n",
       "      <td>Male</td>\n",
       "      <td>23</td>\n",
       "      <td>No</td>\n",
       "      <td>Verbal Warning</td>\n",
       "      <td>North Tryon Division</td>\n",
       "      <td>3001</td>\n",
       "      <td>2019-02-16T10:01:44.227Z</td>\n",
       "      <td>CharlotteNC</td>\n",
       "      <td>2019-02-16T10:01:44.227Z</td>\n",
       "      <td>CharlotteNC</td>\n",
       "    </tr>\n",
       "    <tr>\n",
       "      <th>1</th>\n",
       "      <td>2017/06</td>\n",
       "      <td>Vehicle Regulatory</td>\n",
       "      <td>White</td>\n",
       "      <td>Male</td>\n",
       "      <td>2</td>\n",
       "      <td>Black</td>\n",
       "      <td>Non-Hispanic</td>\n",
       "      <td>Male</td>\n",
       "      <td>36</td>\n",
       "      <td>No</td>\n",
       "      <td>Verbal Warning</td>\n",
       "      <td>Central Division</td>\n",
       "      <td>3002</td>\n",
       "      <td>2019-02-16T10:01:44.227Z</td>\n",
       "      <td>CharlotteNC</td>\n",
       "      <td>2019-02-16T10:01:44.227Z</td>\n",
       "      <td>CharlotteNC</td>\n",
       "    </tr>\n",
       "    <tr>\n",
       "      <th>2</th>\n",
       "      <td>2017/06</td>\n",
       "      <td>Stop Light/Sign</td>\n",
       "      <td>White</td>\n",
       "      <td>Male</td>\n",
       "      <td>5</td>\n",
       "      <td>Black</td>\n",
       "      <td>Non-Hispanic</td>\n",
       "      <td>Male</td>\n",
       "      <td>45</td>\n",
       "      <td>No</td>\n",
       "      <td>Verbal Warning</td>\n",
       "      <td>Central Division</td>\n",
       "      <td>3003</td>\n",
       "      <td>2019-02-16T10:01:44.227Z</td>\n",
       "      <td>CharlotteNC</td>\n",
       "      <td>2019-02-16T10:01:44.227Z</td>\n",
       "      <td>CharlotteNC</td>\n",
       "    </tr>\n",
       "    <tr>\n",
       "      <th>3</th>\n",
       "      <td>2017/06</td>\n",
       "      <td>Vehicle Equipment</td>\n",
       "      <td>White</td>\n",
       "      <td>Male</td>\n",
       "      <td>10</td>\n",
       "      <td>White</td>\n",
       "      <td>Non-Hispanic</td>\n",
       "      <td>Male</td>\n",
       "      <td>30</td>\n",
       "      <td>No</td>\n",
       "      <td>Verbal Warning</td>\n",
       "      <td>South Division</td>\n",
       "      <td>3004</td>\n",
       "      <td>2019-02-16T10:01:44.227Z</td>\n",
       "      <td>CharlotteNC</td>\n",
       "      <td>2019-02-16T10:01:44.227Z</td>\n",
       "      <td>CharlotteNC</td>\n",
       "    </tr>\n",
       "    <tr>\n",
       "      <th>4</th>\n",
       "      <td>2017/06</td>\n",
       "      <td>Stop Light/Sign</td>\n",
       "      <td>White</td>\n",
       "      <td>Male</td>\n",
       "      <td>2</td>\n",
       "      <td>Black</td>\n",
       "      <td>Non-Hispanic</td>\n",
       "      <td>Female</td>\n",
       "      <td>37</td>\n",
       "      <td>No</td>\n",
       "      <td>Verbal Warning</td>\n",
       "      <td>Central Division</td>\n",
       "      <td>3005</td>\n",
       "      <td>2019-02-16T10:01:44.227Z</td>\n",
       "      <td>CharlotteNC</td>\n",
       "      <td>2019-02-16T10:01:44.227Z</td>\n",
       "      <td>CharlotteNC</td>\n",
       "    </tr>\n",
       "  </tbody>\n",
       "</table>\n",
       "</div>"
      ],
      "text/plain": [
       "  Month_of_Stop            Reason_for_Stop Officer_Race Officer_Gender  \\\n",
       "0       2017/06  Vehicle Regulatory               White         Female   \n",
       "1       2017/06  Vehicle Regulatory               White           Male   \n",
       "2       2017/06  Stop Light/Sign                  White           Male   \n",
       "3       2017/06  Vehicle Equipment                White           Male   \n",
       "4       2017/06  Stop Light/Sign                  White           Male   \n",
       "\n",
       "   Officer_Years_of_Service Driver_Race Driver_Ethnicity Driver_Gender  \\\n",
       "0                         3       Black     Non-Hispanic          Male   \n",
       "1                         2       Black     Non-Hispanic          Male   \n",
       "2                         5       Black     Non-Hispanic          Male   \n",
       "3                        10       White     Non-Hispanic          Male   \n",
       "4                         2       Black     Non-Hispanic        Female   \n",
       "\n",
       "   Driver_Age Was_a_Search_Conducted  Result_of_Stop         CMPD_Division  \\\n",
       "0          23                     No  Verbal Warning  North Tryon Division   \n",
       "1          36                     No  Verbal Warning      Central Division   \n",
       "2          45                     No  Verbal Warning      Central Division   \n",
       "3          30                     No  Verbal Warning        South Division   \n",
       "4          37                     No  Verbal Warning      Central Division   \n",
       "\n",
       "   ObjectID              CreationDate      Creator                  EditDate  \\\n",
       "0      3001  2019-02-16T10:01:44.227Z  CharlotteNC  2019-02-16T10:01:44.227Z   \n",
       "1      3002  2019-02-16T10:01:44.227Z  CharlotteNC  2019-02-16T10:01:44.227Z   \n",
       "2      3003  2019-02-16T10:01:44.227Z  CharlotteNC  2019-02-16T10:01:44.227Z   \n",
       "3      3004  2019-02-16T10:01:44.227Z  CharlotteNC  2019-02-16T10:01:44.227Z   \n",
       "4      3005  2019-02-16T10:01:44.227Z  CharlotteNC  2019-02-16T10:01:44.227Z   \n",
       "\n",
       "        Editor  \n",
       "0  CharlotteNC  \n",
       "1  CharlotteNC  \n",
       "2  CharlotteNC  \n",
       "3  CharlotteNC  \n",
       "4  CharlotteNC  "
      ]
     },
     "execution_count": 2,
     "metadata": {},
     "output_type": "execute_result"
    }
   ],
   "source": [
    "# Load traffic stops data and create a dataframe called stops\n",
    "# and check the columns and their types\n",
    "stops = pd.read_csv('Officer_Traffic_Stops.csv')\n",
    "stops.head()"
   ]
  },
  {
   "cell_type": "code",
   "execution_count": null,
   "metadata": {},
   "outputs": [],
   "source": [
    "# view the data by just typing the dataframe name\n"
   ]
  },
  {
   "cell_type": "code",
   "execution_count": null,
   "metadata": {},
   "outputs": [],
   "source": [
    "# check the data using df.info()"
   ]
  },
  {
   "cell_type": "markdown",
   "metadata": {},
   "source": [
    "You will notice object and int64 this may not be what we would like so lets remember that\n",
    "\n",
    "Let's consider our target variable: `Was_a_Search_Conducted`.\n",
    "\n",
    "**Plot** a bar chart that counts the number of records by `Was_a_Search_Conducted`."
   ]
  },
  {
   "cell_type": "code",
   "execution_count": null,
   "metadata": {},
   "outputs": [],
   "source": [
    "## Bar chart"
   ]
  },
  {
   "cell_type": "markdown",
   "metadata": {},
   "source": [
    "Next, let's consider the age range of the driver. \n",
    "\n",
    "**Plot** a histogram of `Driver_Age`. Determine an appropriate number of bins."
   ]
  },
  {
   "cell_type": "code",
   "execution_count": null,
   "metadata": {},
   "outputs": [],
   "source": [
    "## Histogram"
   ]
  },
  {
   "cell_type": "markdown",
   "metadata": {},
   "source": [
    "Once you go above (around) 40-50 bins, you'll notice some points stick out. \n",
    "\n",
    "What is happening? xxxxx"
   ]
  },
  {
   "cell_type": "markdown",
   "metadata": {},
   "source": [
    "**Plot** a box plot with `Was_a_Search_Conducted` on the x-axis and `Driver_Age` on the y-axis."
   ]
  },
  {
   "cell_type": "code",
   "execution_count": null,
   "metadata": {},
   "outputs": [],
   "source": [
    "## Box plot"
   ]
  },
  {
   "cell_type": "markdown",
   "metadata": {},
   "source": [
    "**Plot** a violin plot where the fill is the response variable \"Was_a_search_conducted\" https://altair-viz.github.io/gallery/violin_plot.html"
   ]
  },
  {
   "cell_type": "code",
   "execution_count": null,
   "metadata": {},
   "outputs": [],
   "source": [
    "# Violin plot"
   ]
  },
  {
   "cell_type": "markdown",
   "metadata": {},
   "source": [
    "From the plots above, do you think the age of the driver is a significant factor in whether a search was conducted? Why or why not? xxxxx"
   ]
  },
  {
   "cell_type": "markdown",
   "metadata": {},
   "source": [
    "## Date of stop\n",
    "\n",
    "Let's plot the number of stops by time. \n",
    "\n",
    "Recalling part one, the `Month_of_Stop` variable is a character, not a date variable. The datatime's are simply when the data was collected; not when the stop occurred. Therefore, we'll need to convert the `Month_of_Stop` variable from a character to a Date format.\n",
    "\n",
    "Uncomment out the next 4 code blocks these are given to you but please study and know what they do"
   ]
  },
  {
   "cell_type": "code",
   "execution_count": null,
   "metadata": {},
   "outputs": [],
   "source": [
    "#stops['Month_of_Stop'] = stops['Month_of_Stop'].astype('datetime64[ns]')"
   ]
  },
  {
   "cell_type": "code",
   "execution_count": null,
   "metadata": {},
   "outputs": [],
   "source": [
    "#stops['Month_of_Stop'] = pd.to_datetime(stops['Month_of_Stop'], format='%y%m%d')"
   ]
  },
  {
   "cell_type": "code",
   "execution_count": null,
   "metadata": {},
   "outputs": [],
   "source": [
    "#stops.info()"
   ]
  },
  {
   "cell_type": "code",
   "execution_count": null,
   "metadata": {},
   "outputs": [],
   "source": [
    "#stops"
   ]
  },
  {
   "cell_type": "markdown",
   "metadata": {},
   "source": [
    "**Plot** a line chart with the number of traffic stops for each month (hint: think about the aggregations we did in class.)."
   ]
  },
  {
   "cell_type": "code",
   "execution_count": null,
   "metadata": {},
   "outputs": [],
   "source": [
    "## Create a dataframe named stops_count for this graph that has a column named Month_of_Stop \n",
    "## Also create a column named count representing the ammount of stops per month  https://sparkbyexamples.com/pandas/pandas-groupby-count-examples/\n",
    "\n"
   ]
  },
  {
   "cell_type": "code",
   "execution_count": null,
   "metadata": {},
   "outputs": [],
   "source": [
    "## Line chart\n",
    "\n"
   ]
  },
  {
   "cell_type": "markdown",
   "metadata": {},
   "source": [
    "What is the trend (i.e., long term rate of change) of the number of traffic stops in Charlotte? xxxxx"
   ]
  },
  {
   "cell_type": "markdown",
   "metadata": {},
   "source": [
    "**Plot** the same plot but add in `.facet()` by the `Reason_for_Stop` variable."
   ]
  },
  {
   "cell_type": "code",
   "execution_count": null,
   "metadata": {},
   "outputs": [],
   "source": [
    "## create the dataframe that groups by month and reason for stop \n",
    "\n"
   ]
  },
  {
   "cell_type": "code",
   "execution_count": null,
   "metadata": {},
   "outputs": [],
   "source": [
    "## Facet chart https://stackoverflow.com/questions/64770801/python-altair-facet-line-plot-with-multiple-variables\n"
   ]
  },
  {
   "cell_type": "markdown",
   "metadata": {},
   "source": [
    "What is a problem with this plot? xxxxx"
   ]
  },
  {
   "cell_type": "markdown",
   "metadata": {},
   "source": [
    "To address this problem, you will need to figure out how to adjust the scale. To do this, you need to use altairs documentation to see whether there is a function that could help you.\n",
    "\n",
    "https://altair-viz.github.io/user_guide/scale_resolve.html\n",
    "\n",
    "What parameter allows you to modify the scales of `facet_wrap`? xxxxx"
   ]
  },
  {
   "cell_type": "markdown",
   "metadata": {},
   "source": [
    "**Plot** the same plot but with a free y-axis scale. (This may take some research but very findable)"
   ]
  },
  {
   "cell_type": "code",
   "execution_count": null,
   "metadata": {},
   "outputs": [],
   "source": [
    "# Updated Facet Chart"
   ]
  },
  {
   "cell_type": "markdown",
   "metadata": {},
   "source": [
    "Which type of police stop has had the most volatility (i.e., big swings in number of stops)? xxxxx"
   ]
  },
  {
   "cell_type": "markdown",
   "metadata": {},
   "source": [
    "What is one problem with allowing the y-axis be free? xxxxx"
   ]
  },
  {
   "cell_type": "markdown",
   "metadata": {},
   "source": [
    "Small multiples tends to be less effective when each of the variables are on different scales or magnitudes.\n",
    "\n",
    "Let's consider instead CMPD traffic stops but by CMPD division. These are more even spread by division than the type of stop.\n",
    "\n",
    "**Plot** a line chart for stops by `Date` but grouped by Division instead of reason"
   ]
  },
  {
   "cell_type": "code",
   "execution_count": null,
   "metadata": {},
   "outputs": [],
   "source": [
    "# Facet plot for division stops"
   ]
  },
  {
   "cell_type": "markdown",
   "metadata": {},
   "source": [
    "What are three observations you can make about the number of police stops by divison? (hint: just write about what's in the data.)\n",
    "\n",
    "1. xxxxx\n",
    "\n",
    "2. xxxxx\n",
    "\n",
    "3. xxxxx"
   ]
  }
 ],
 "metadata": {
  "kernelspec": {
   "display_name": "Python 3.8.13 ('streamlit_env')",
   "language": "python",
   "name": "python3"
  },
  "language_info": {
   "codemirror_mode": {
    "name": "ipython",
    "version": 3
   },
   "file_extension": ".py",
   "mimetype": "text/x-python",
   "name": "python",
   "nbconvert_exporter": "python",
   "pygments_lexer": "ipython3",
   "version": "3.10.11"
  },
  "orig_nbformat": 4,
  "vscode": {
   "interpreter": {
    "hash": "27ef454d43efc622c91ad69957169a3babd55091e91d4c832acb6e0ff1063b8e"
   }
  }
 },
 "nbformat": 4,
 "nbformat_minor": 2
}
